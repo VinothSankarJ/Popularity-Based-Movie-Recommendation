{
 "cells": [
  {
   "cell_type": "markdown",
   "id": "959442ef",
   "metadata": {},
   "source": [
    "# Importing Libraries and Loading Data"
   ]
  },
  {
   "cell_type": "code",
   "execution_count": 1,
   "id": "77752629",
   "metadata": {},
   "outputs": [],
   "source": [
    "# importing libraries\n",
    "import pandas as pd\n",
    "import numpy as np"
   ]
  },
  {
   "cell_type": "markdown",
   "id": "2ff8b254",
   "metadata": {},
   "source": [
    "# Load the data"
   ]
  },
  {
   "cell_type": "code",
   "execution_count": 2,
   "id": "0fd0da73",
   "metadata": {},
   "outputs": [],
   "source": [
    "ratings = pd.read_csv('ml-100k/u.data', sep='\\t', names=['user_id', 'item_id', 'rating', 'timestamp'])\n",
    "movies = pd.read_csv('ml-100k/u.item', sep='|', encoding='latin-1', \n",
    "                     names=['item_id', 'title', 'release_date', 'video_release_date', 'IMDb_URL', \n",
    "                            'unknown', 'Action', 'Adventure', 'Animation', 'Children', 'Comedy', \n",
    "                            'Crime', 'Documentary', 'Drama', 'Fantasy', 'Film-Noir', 'Horror', \n",
    "                            'Musical', 'Mystery', 'Romance', 'Sci-Fi', 'Thriller', 'War', 'Western'])"
   ]
  },
  {
   "cell_type": "markdown",
   "id": "347ab62f",
   "metadata": {},
   "source": [
    "#  Data Processing"
   ]
  },
  {
   "cell_type": "markdown",
   "id": "0e1321a8",
   "metadata": {},
   "source": [
    "# Merge ratings and movies dataframes on item_id"
   ]
  },
  {
   "cell_type": "code",
   "execution_count": 3,
   "id": "c90f4445",
   "metadata": {},
   "outputs": [],
   "source": [
    "data = pd.merge(ratings, movies[['item_id', 'title'] + movies.columns.tolist()[6:]], on='item_id')\n"
   ]
  },
  {
   "cell_type": "markdown",
   "id": "57f3bcc4",
   "metadata": {},
   "source": [
    "# Calculate average rating and number of ratings for each movie"
   ]
  },
  {
   "cell_type": "code",
   "execution_count": 4,
   "id": "8455398e",
   "metadata": {},
   "outputs": [],
   "source": [
    "movie_stats = data.groupby('title').agg({'rating': ['mean', 'count']}).reset_index()\n",
    "movie_stats.columns = ['title', 'average_rating', 'rating_count']"
   ]
  },
  {
   "cell_type": "markdown",
   "id": "82f1a5f5",
   "metadata": {},
   "source": [
    "# Merge with the genre information"
   ]
  },
  {
   "cell_type": "code",
   "execution_count": 5,
   "id": "b3cb066f",
   "metadata": {},
   "outputs": [],
   "source": [
    "movie_genres = data[['title'] + movies.columns.tolist()[6:]].drop_duplicates()\n",
    "movie_stats = pd.merge(movie_stats, movie_genres, on='title')"
   ]
  },
  {
   "cell_type": "markdown",
   "id": "672eac1d",
   "metadata": {},
   "source": [
    "# Calculate Popularity and Generate Recommendations"
   ]
  },
  {
   "cell_type": "markdown",
   "id": "d10b6034",
   "metadata": {},
   "source": [
    "# Function to get top N movies by genre"
   ]
  },
  {
   "cell_type": "code",
   "execution_count": 6,
   "id": "cc928ede",
   "metadata": {},
   "outputs": [],
   "source": [
    "def get_top_n_movies_by_genre(df, genre, n=5):\n",
    "    genre_movies = df[df[genre] == 1]\n",
    "    top_movies = genre_movies.sort_values(by=['rating_count', 'average_rating'], ascending=[False, False]).head(n)\n",
    "    return top_movies[['title', 'average_rating', 'rating_count']]"
   ]
  },
  {
   "cell_type": "markdown",
   "id": "a11a143c",
   "metadata": {},
   "source": [
    "# List of genres"
   ]
  },
  {
   "cell_type": "code",
   "execution_count": 7,
   "id": "0d977b39",
   "metadata": {},
   "outputs": [],
   "source": [
    "genres = movies.columns.tolist()[6:]"
   ]
  },
  {
   "cell_type": "markdown",
   "id": "eb3a97d8",
   "metadata": {},
   "source": [
    "# Generate recommendations for each genre"
   ]
  },
  {
   "cell_type": "code",
   "execution_count": 8,
   "id": "b63b1287",
   "metadata": {},
   "outputs": [],
   "source": [
    "top_movies_by_genre = {}\n",
    "for genre in genres:\n",
    "    top_movies_by_genre[genre] = get_top_n_movies_by_genre(movie_stats, genre, n=5)\n"
   ]
  },
  {
   "cell_type": "markdown",
   "id": "1c0ffc86",
   "metadata": {},
   "source": [
    "# Display the recommendations"
   ]
  },
  {
   "cell_type": "code",
   "execution_count": 9,
   "id": "f9bfc855",
   "metadata": {},
   "outputs": [
    {
     "name": "stdout",
     "output_type": "stream",
     "text": [
      "Top 5 movies in Action genre:\n",
      "                               title  average_rating  rating_count\n",
      "1398                Star Wars (1977)        4.358491           583\n",
      "1234       Return of the Jedi (1983)        4.007890           507\n",
      "32              Air Force One (1997)        3.631090           431\n",
      "744    Independence Day (ID4) (1996)        3.438228           429\n",
      "1205  Raiders of the Lost Ark (1981)        4.252381           420\n",
      "\n",
      "\n",
      "Top 5 movies in Adventure genre:\n",
      "                                title  average_rating  rating_count\n",
      "1398                 Star Wars (1977)        4.358491           583\n",
      "1234        Return of the Jedi (1983)        4.007890           507\n",
      "1205   Raiders of the Lost Ark (1981)        4.252381           420\n",
      "1251                 Rock, The (1996)        3.693122           378\n",
      "456   Empire Strikes Back, The (1980)        4.204360           367\n",
      "\n",
      "\n",
      "Top 5 movies in Animation genre:\n",
      "                            title  average_rating  rating_count\n",
      "1523             Toy Story (1995)        3.878319           452\n",
      "867         Lion King, The (1994)        3.781818           220\n",
      "36                 Aladdin (1992)        3.812785           219\n",
      "142   Beauty and the Beast (1991)        3.792079           202\n",
      "494               Fantasia (1940)        3.770115           174\n",
      "\n",
      "\n",
      "Top 5 movies in Children genre:\n",
      "                                             title  average_rating  \\\n",
      "1523                              Toy Story (1995)        3.878319   \n",
      "1633  Willy Wonka and the Chocolate Factory (1971)        3.631902   \n",
      "446              E.T. the Extra-Terrestrial (1982)        3.833333   \n",
      "1644                      Wizard of Oz, The (1939)        4.077236   \n",
      "867                          Lion King, The (1994)        3.781818   \n",
      "\n",
      "      rating_count  \n",
      "1523           452  \n",
      "1633           326  \n",
      "446            300  \n",
      "1644           246  \n",
      "867            220  \n",
      "\n",
      "\n",
      "Top 5 movies in Comedy genre:\n",
      "                                             title  average_rating  \\\n",
      "860                               Liar Liar (1997)        3.156701   \n",
      "1523                              Toy Story (1995)        3.878319   \n",
      "113                      Back to the Future (1985)        3.834286   \n",
      "1633  Willy Wonka and the Chocolate Factory (1971)        3.631902   \n",
      "1178                    Princess Bride, The (1987)        4.172840   \n",
      "\n",
      "      rating_count  \n",
      "860            485  \n",
      "1523           452  \n",
      "113            350  \n",
      "1633           326  \n",
      "1178           324  \n",
      "\n",
      "\n",
      "Top 5 movies in Crime genre:\n",
      "                           title  average_rating  rating_count\n",
      "498                 Fargo (1996)        4.155512           508\n",
      "612        Godfather, The (1972)        4.283293           413\n",
      "1190         Pulp Fiction (1994)        4.060914           394\n",
      "829     L.A. Confidential (1997)        4.161616           297\n",
      "1572  Usual Suspects, The (1995)        4.385768           267\n",
      "\n",
      "\n",
      "Top 5 movies in Documentary genre:\n",
      "                            title  average_rating  rating_count\n",
      "696            Hoop Dreams (1994)        4.094017           117\n",
      "360                  Crumb (1994)        3.790123            81\n",
      "283  Celluloid Closet, The (1995)        3.892857            56\n",
      "885    Looking for Richard (1996)        3.727273            55\n",
      "826          Koyaanisqatsi (1983)        3.490566            53\n",
      "\n",
      "\n",
      "Top 5 movies in Drama genre:\n",
      "                            title  average_rating  rating_count\n",
      "333                Contact (1997)        3.803536           509\n",
      "498                  Fargo (1996)        4.155512           508\n",
      "460   English Patient, The (1996)        3.656965           481\n",
      "612         Godfather, The (1972)        4.283293           413\n",
      "1190          Pulp Fiction (1994)        4.060914           394\n",
      "\n",
      "\n",
      "Top 5 movies in Fantasy genre:\n",
      "                                  title  average_rating  rating_count\n",
      "446   E.T. the Extra-Terrestrial (1982)        3.833333           300\n",
      "1085        Nutty Professor, The (1996)        2.914110           163\n",
      "435                  Dragonheart (1996)        3.082278           158\n",
      "950                    Mask, The (1994)        3.193798           129\n",
      "792                      Jumanji (1995)        3.312500            96\n",
      "\n",
      "\n",
      "Top 5 movies in Film-Noir genre:\n",
      "                                title  average_rating  rating_count\n",
      "829          L.A. Confidential (1997)        4.161616           297\n",
      "184               Blade Runner (1982)        4.138182           275\n",
      "296                  Chinatown (1974)        4.136054           147\n",
      "926        Maltese Falcon, The (1941)        4.210145           138\n",
      "936  Manchurian Candidate, The (1962)        4.259542           131\n",
      "\n",
      "\n",
      "Top 5 movies in Horror genre:\n",
      "                    title  average_rating  rating_count\n",
      "1284        Scream (1996)        3.441423           478\n",
      "41           Alien (1979)        4.034364           291\n",
      "773           Jaws (1975)        3.775000           280\n",
      "1189        Psycho (1960)        4.100418           239\n",
      "1322  Shining, The (1980)        3.825243           206\n",
      "\n",
      "\n",
      "Top 5 movies in Musical genre:\n",
      "                           title  average_rating  rating_count\n",
      "476                 Evita (1996)        2.980695           259\n",
      "199   Blues Brothers, The (1980)        3.836653           251\n",
      "1644    Wizard of Oz, The (1939)        4.077236           246\n",
      "1365  Sound of Music, The (1965)        3.765766           222\n",
      "867        Lion King, The (1994)        3.781818           220\n",
      "\n",
      "\n",
      "Top 5 movies in Mystery genre:\n",
      "                            title  average_rating  rating_count\n",
      "987    Mission: Impossible (1996)        3.313953           344\n",
      "829      L.A. Confidential (1997)        4.161616           297\n",
      "332      Conspiracy Theory (1997)        3.423729           295\n",
      "50                 Amadeus (1984)        4.163043           276\n",
      "7    2001: A Space Odyssey (1968)        3.969112           259\n",
      "\n",
      "\n",
      "Top 5 movies in Romance genre:\n",
      "                            title  average_rating  rating_count\n",
      "1398             Star Wars (1977)        4.358491           583\n",
      "1234    Return of the Jedi (1983)        4.007890           507\n",
      "460   English Patient, The (1996)        3.656965           481\n",
      "780          Jerry Maguire (1996)        3.710938           384\n",
      "293            Chasing Amy (1997)        3.839050           379\n",
      "\n",
      "\n",
      "Top 5 movies in Sci-Fi genre:\n",
      "                              title  average_rating  rating_count\n",
      "1398               Star Wars (1977)        4.358491           583\n",
      "333                  Contact (1997)        3.803536           509\n",
      "1234      Return of the Jedi (1983)        4.007890           507\n",
      "744   Independence Day (ID4) (1996)        3.438228           429\n",
      "1543          Twelve Monkeys (1995)        3.798469           392\n",
      "\n",
      "\n",
      "Top 5 movies in Thriller genre:\n",
      "                                 title  average_rating  rating_count\n",
      "498                       Fargo (1996)        4.155512           508\n",
      "1284                     Scream (1996)        3.441423           478\n",
      "32                Air Force One (1997)        3.631090           431\n",
      "1329  Silence of the Lambs, The (1991)        4.289744           390\n",
      "1251                  Rock, The (1996)        3.693122           378\n",
      "\n",
      "\n",
      "Top 5 movies in War genre:\n",
      "                                title  average_rating  rating_count\n",
      "1398                 Star Wars (1977)        4.358491           583\n",
      "1234        Return of the Jedi (1983)        4.007890           507\n",
      "460       English Patient, The (1996)        3.656965           481\n",
      "744     Independence Day (ID4) (1996)        3.438228           429\n",
      "456   Empire Strikes Back, The (1980)        4.204360           367\n",
      "\n",
      "\n",
      "Top 5 movies in Western genre:\n",
      "                                          title  average_rating  rating_count\n",
      "373                   Dances with Wolves (1990)        3.792969           256\n",
      "249   Butch Cassidy and the Sundance Kid (1969)        3.949074           216\n",
      "1565                          Unforgiven (1992)        3.868132           182\n",
      "622      Good, The Bad and The Ugly, The (1966)        3.861314           137\n",
      "954                             Maverick (1994)        3.468750           128\n",
      "\n",
      "\n"
     ]
    }
   ],
   "source": [
    "for genre, movies in top_movies_by_genre.items():\n",
    "    print(f\"Top 5 movies in {genre} genre:\")\n",
    "    print(movies)\n",
    "    print(\"\\n\")"
   ]
  },
  {
   "cell_type": "code",
   "execution_count": null,
   "id": "95b395db",
   "metadata": {},
   "outputs": [],
   "source": []
  }
 ],
 "metadata": {
  "kernelspec": {
   "display_name": "Python 3 (ipykernel)",
   "language": "python",
   "name": "python3"
  },
  "language_info": {
   "codemirror_mode": {
    "name": "ipython",
    "version": 3
   },
   "file_extension": ".py",
   "mimetype": "text/x-python",
   "name": "python",
   "nbconvert_exporter": "python",
   "pygments_lexer": "ipython3",
   "version": "3.7.6"
  }
 },
 "nbformat": 4,
 "nbformat_minor": 5
}
